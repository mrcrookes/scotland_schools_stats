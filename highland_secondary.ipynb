{
 "cells": [
  {
   "cell_type": "code",
   "execution_count": 7,
   "id": "f5bd7151",
   "metadata": {},
   "outputs": [],
   "source": [
    "# Import key librarys\n",
    "import pandas as pd\n",
    "import numpy as np\n",
    "import os\n",
    "import glob"
   ]
  },
  {
   "cell_type": "code",
   "execution_count": 8,
   "id": "d00c97c7",
   "metadata": {},
   "outputs": [],
   "source": [
    "# use glob to get all the csv files in the folder\n",
    "path = './highland_secondary/'\n",
    "csv_files = glob.glob(os.path.join(path, \"*.csv\"))\n",
    "\n",
    "# Create list for all dfs\n",
    "frames = []\n",
    "\n",
    "for f in csv_files:\n",
    "    \n",
    "    wdf = pd.read_csv(f)\n",
    "    \n",
    "    frames.append(wdf)"
   ]
  },
  {
   "cell_type": "code",
   "execution_count": 9,
   "id": "b7fc49c5",
   "metadata": {},
   "outputs": [
    {
     "data": {
      "text/html": [
       "<div>\n",
       "<style scoped>\n",
       "    .dataframe tbody tr th:only-of-type {\n",
       "        vertical-align: middle;\n",
       "    }\n",
       "\n",
       "    .dataframe tbody tr th {\n",
       "        vertical-align: top;\n",
       "    }\n",
       "\n",
       "    .dataframe thead th {\n",
       "        text-align: right;\n",
       "    }\n",
       "</style>\n",
       "<table border=\"1\" class=\"dataframe\">\n",
       "  <thead>\n",
       "    <tr style=\"text-align: right;\">\n",
       "      <th></th>\n",
       "      <th>year</th>\n",
       "      <th>seed_code</th>\n",
       "      <th>la_code</th>\n",
       "      <th>la_name</th>\n",
       "      <th>school_name</th>\n",
       "      <th>school_type</th>\n",
       "      <th>measure_category</th>\n",
       "      <th>measure</th>\n",
       "      <th>value</th>\n",
       "      <th>chart_label</th>\n",
       "    </tr>\n",
       "  </thead>\n",
       "  <tbody>\n",
       "    <tr>\n",
       "      <th>0</th>\n",
       "      <td>2021</td>\n",
       "      <td>5123437</td>\n",
       "      <td>270</td>\n",
       "      <td>Highland</td>\n",
       "      <td>Plockton High School</td>\n",
       "      <td>Secondary</td>\n",
       "      <td>trend</td>\n",
       "      <td>Pupil Numbers</td>\n",
       "      <td>254</td>\n",
       "      <td>NaN</td>\n",
       "    </tr>\n",
       "    <tr>\n",
       "      <th>1</th>\n",
       "      <td>2021</td>\n",
       "      <td>5123437</td>\n",
       "      <td>270</td>\n",
       "      <td>Highland</td>\n",
       "      <td>Plockton High School</td>\n",
       "      <td>Secondary</td>\n",
       "      <td>trend</td>\n",
       "      <td>Teacher Numbers (FTE)</td>\n",
       "      <td>27.7</td>\n",
       "      <td>NaN</td>\n",
       "    </tr>\n",
       "    <tr>\n",
       "      <th>2</th>\n",
       "      <td>2021</td>\n",
       "      <td>5123437</td>\n",
       "      <td>270</td>\n",
       "      <td>Highland</td>\n",
       "      <td>Plockton High School</td>\n",
       "      <td>Secondary</td>\n",
       "      <td>trend</td>\n",
       "      <td>Pupil Teacher Ratio</td>\n",
       "      <td>9.2</td>\n",
       "      <td>NaN</td>\n",
       "    </tr>\n",
       "    <tr>\n",
       "      <th>3</th>\n",
       "      <td>2021</td>\n",
       "      <td>5123437</td>\n",
       "      <td>270</td>\n",
       "      <td>Highland</td>\n",
       "      <td>Plockton High School</td>\n",
       "      <td>Secondary</td>\n",
       "      <td>trend</td>\n",
       "      <td>Average Class</td>\n",
       "      <td>0</td>\n",
       "      <td>NaN</td>\n",
       "    </tr>\n",
       "    <tr>\n",
       "      <th>4</th>\n",
       "      <td>2022</td>\n",
       "      <td>5123437</td>\n",
       "      <td>270</td>\n",
       "      <td>Highland</td>\n",
       "      <td>Plockton High School</td>\n",
       "      <td>Secondary</td>\n",
       "      <td>trend</td>\n",
       "      <td>Pupil Numbers</td>\n",
       "      <td>224</td>\n",
       "      <td>NaN</td>\n",
       "    </tr>\n",
       "  </tbody>\n",
       "</table>\n",
       "</div>"
      ],
      "text/plain": [
       "   year  seed_code  la_code   la_name           school_name school_type  \\\n",
       "0  2021    5123437      270  Highland  Plockton High School   Secondary   \n",
       "1  2021    5123437      270  Highland  Plockton High School   Secondary   \n",
       "2  2021    5123437      270  Highland  Plockton High School   Secondary   \n",
       "3  2021    5123437      270  Highland  Plockton High School   Secondary   \n",
       "4  2022    5123437      270  Highland  Plockton High School   Secondary   \n",
       "\n",
       "  measure_category                measure value  chart_label  \n",
       "0            trend          Pupil Numbers   254          NaN  \n",
       "1            trend  Teacher Numbers (FTE)  27.7          NaN  \n",
       "2            trend    Pupil Teacher Ratio   9.2          NaN  \n",
       "3            trend          Average Class     0          NaN  \n",
       "4            trend          Pupil Numbers   224          NaN  "
      ]
     },
     "execution_count": 9,
     "metadata": {},
     "output_type": "execute_result"
    }
   ],
   "source": [
    "wdf.head()"
   ]
  },
  {
   "cell_type": "code",
   "execution_count": 10,
   "id": "9dd60228",
   "metadata": {},
   "outputs": [],
   "source": [
    "## Concat all together long format dfs into final df\n",
    "ldf = pd.concat(frames)"
   ]
  },
  {
   "cell_type": "code",
   "execution_count": 11,
   "id": "9a3efa51",
   "metadata": {},
   "outputs": [],
   "source": [
    "# Rename percentage categories so that they are numbers\n",
    "ldf['value'] = ldf['value'].replace(\n",
    "    {'0-10%':'5%',\n",
    "     '10-20%':'15%',\n",
    "     '20-30%':'25%',\n",
    "     '30-40%':'35%',\n",
    "     '40-50%':'45%',\n",
    "     '50-60%':'55%',\n",
    "     '60-70%':'65%',\n",
    "     '70-80%':'75%',\n",
    "     '80-90%':'85%',\n",
    "     '90-100%':'95%',\n",
    "    })\n",
    "\n",
    "# Drop duplicates\n",
    "ldf = ldf.drop_duplicates()"
   ]
  },
  {
   "cell_type": "code",
   "execution_count": 12,
   "id": "0f603124",
   "metadata": {},
   "outputs": [],
   "source": [
    "ldf.to_csv('highland_secondary.csv')"
   ]
  },
  {
   "cell_type": "code",
   "execution_count": null,
   "id": "c665436c",
   "metadata": {},
   "outputs": [],
   "source": []
  }
 ],
 "metadata": {
  "kernelspec": {
   "display_name": "Python 3 (ipykernel)",
   "language": "python",
   "name": "python3"
  },
  "language_info": {
   "codemirror_mode": {
    "name": "ipython",
    "version": 3
   },
   "file_extension": ".py",
   "mimetype": "text/x-python",
   "name": "python",
   "nbconvert_exporter": "python",
   "pygments_lexer": "ipython3",
   "version": "3.10.12"
  }
 },
 "nbformat": 4,
 "nbformat_minor": 5
}
