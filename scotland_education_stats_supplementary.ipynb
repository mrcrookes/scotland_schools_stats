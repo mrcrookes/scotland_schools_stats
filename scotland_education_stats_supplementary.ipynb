{
 "cells": [
  {
   "cell_type": "code",
   "execution_count": null,
   "id": "1b6855a6",
   "metadata": {},
   "outputs": [],
   "source": [
    "# Import librarys\n",
    "import pandas as pd\n",
    "import numpy as np"
   ]
  },
  {
   "cell_type": "code",
   "execution_count": null,
   "id": "6340838b",
   "metadata": {},
   "outputs": [],
   "source": [
    "# Define function to read in excel file\n",
    "def readfile(year, ext, sheet):\n",
    "    \n",
    "        df = pd.read_excel('./supplementary/' + year + ext, \n",
    "                                sheet_name=sheet,\n",
    "                                    header=None)\n",
    "        return df\n",
    "    \n",
    "# Define tidy up initial df\n",
    "def tidy(df):\n",
    "    \n",
    "    #### Fix usual issues with all strings\n",
    "    \n",
    "    # Capitalise columns\n",
    "    df = df.applymap(lambda x: x.upper() if type(x) is str else x)\n",
    "\n",
    "    # Strip whitespace\n",
    "    df = df.applymap(lambda x: x.strip() if type(x) is str else x)\n",
    "\n",
    "    # Remove parenthesis\n",
    "    df = df.applymap(lambda x: x.replace('(', '') if type(x) is str else x)\n",
    "    df = df.applymap(lambda x: x.replace(')', '') if type(x) is str else x)\n",
    "\n",
    "    # Replace annoying substrings\n",
    "    df = df.applymap(lambda x: x.replace(' AND ', ' & ') if type(x) is str else x)\n",
    "    df = df.applymap(lambda x: x.replace(' – ', ' - ') if type(x) is str else x)\n",
    "    df = df.applymap(lambda x: x.replace(' / ', '/') if type(x) is str else x)\n",
    "    df = df.applymap(lambda x: x.replace('/ ', '/') if type(x) is str else x)\n",
    "    df = df.applymap(lambda x: x.replace(' /', '/') if type(x) is str else x)\n",
    "    \n",
    "    #### Drop rows and columns with a lot of empty values\n",
    "    \n",
    "    # Drop rows with minimum number of 3 non-null values\n",
    "    df = df.dropna(thresh=3)\n",
    "\n",
    "    # Drop rows with columns number of 3 non-null values\n",
    "    df = df.dropna(axis='columns', thresh=3)\n",
    "    \n",
    "    return df"
   ]
  },
  {
   "cell_type": "code",
   "execution_count": null,
   "id": "df05295a",
   "metadata": {},
   "outputs": [],
   "source": [
    "# Create empty list to store raw df\n",
    "rframes = []\n",
    "\n",
    "# Loop through years\n",
    "years = ['2012', '2017', '2018', '2019', '2020', '2021', '2022']\n",
    "\n",
    "for y in years:\n",
    "\n",
    "    # Read in sheet\n",
    "    wdf = readfile(y, '.xlsx', 'Table 3.7')\n",
    "\n",
    "    wdf = tidy(wdf)\n",
    "\n",
    "    # Append to list of df (with year)\n",
    "    rframes.append([wdf, y])\n",
    "    \n",
    "# Loop through years\n",
    "years = ['2011', '2013', '2014', '2015', '2016']\n",
    "\n",
    "for y in years:\n",
    "\n",
    "    # Read in sheet\n",
    "    wdf = readfile(y, '.xls', 'Table 3.7')\n",
    "\n",
    "    wdf = tidy(wdf)\n",
    "\n",
    "    # Append to list of df (with year)\n",
    "    rframes.append([wdf, y])\n",
    "    \n",
    "# Loop through years\n",
    "years = ['2010']\n",
    "\n",
    "for y in years:\n",
    "\n",
    "    # Read in sheet\n",
    "    wdf = readfile(y, '.xls', '3.7')\n",
    "\n",
    "    wdf = tidy(wdf)\n",
    "\n",
    "    # Append to list of df (with year)\n",
    "    rframes.append([wdf, y])"
   ]
  },
  {
   "cell_type": "code",
   "execution_count": null,
   "id": "1d6d490c",
   "metadata": {
    "scrolled": true
   },
   "outputs": [],
   "source": [
    "#wdf.head()"
   ]
  },
  {
   "cell_type": "code",
   "execution_count": null,
   "id": "1d635611",
   "metadata": {},
   "outputs": [],
   "source": [
    "#### Pull out subtables from sheet\n",
    "\n",
    "# Create a list for tables\n",
    "tables_ls = []\n",
    "\n",
    "# Create list of subtables on sheet\n",
    "ls = ['REASON FOR SUPPORT']\n",
    "\n",
    "# Loop through frames\n",
    "for f in rframes:\n",
    "    \n",
    "    # Select df which is first element of list entry\n",
    "    df = f[0]\n",
    "\n",
    "    # Not sure what this does (store the recurrence of 'markers')\n",
    "    groups = df[0].isin(ls).cumsum()\n",
    "\n",
    "    # Not sure how this works, creates a dictionary of df for each table with key TABLE1, TABLE2, ...\n",
    "    tables = {'TABLE'+str(k): g.iloc[0:] for k,g in df.groupby(groups)}\n",
    "\n",
    "    # Append to list of df with year\n",
    "    tables_ls.append([tables, f[1]])"
   ]
  },
  {
   "cell_type": "code",
   "execution_count": null,
   "id": "a8fb454f",
   "metadata": {},
   "outputs": [],
   "source": [
    "#### Tidy up column headers for each table\n",
    "\n",
    "# Loop though list of tables\n",
    "for l in tables_ls:\n",
    "    \n",
    "    # Select df which is first element of list entry\n",
    "    tables = l[0]\n",
    "    \n",
    "    # Loop through tables dictionary\n",
    "    for t in tables:\n",
    "        \n",
    "        if len(tables[t].columns) == 4:\n",
    "        \n",
    "            # Manually rename columns\n",
    "            tables[t].columns = ['REASON FOR SUPPORT', \n",
    "                                     'FEMALE', 'MALE', 'TOTAL']\n",
    "            \n",
    "        if len(tables[t].columns) == 7:\n",
    "           \n",
    "            # Manually rename columns\n",
    "            tables[t].columns = ['REASON FOR SUPPORT', 'FEMALE', 'MALE', 'TOTAL',\n",
    "                                        'FEMALE per 1000', 'MALE per 1000', 'TOTAL per 1000']            \n",
    "\n",
    "    # Drop 1st row\n",
    "    tables[t] = tables[t].iloc[1:].reset_index(drop=True)"
   ]
  },
  {
   "cell_type": "code",
   "execution_count": null,
   "id": "fe53ec8c",
   "metadata": {},
   "outputs": [],
   "source": [
    "#tables_ls[0][0]\n",
    "#read_df.head()\n",
    "#tables['TABLE1']\n",
    "#tables[t]"
   ]
  },
  {
   "cell_type": "code",
   "execution_count": null,
   "id": "ff3feb41",
   "metadata": {},
   "outputs": [],
   "source": [
    "# Create empty list to store long format df\n",
    "lframes = []\n",
    "\n",
    "# Loop though list of tables\n",
    "for l in tables_ls:\n",
    "    \n",
    "    # Select df which is first element of list entry\n",
    "    tables = l[0]\n",
    "\n",
    "    # Loop through tables\n",
    "    for t in tables:        \n",
    "    \n",
    "        # Loop through headers in table\n",
    "        for h in tables[t].columns[1:]:\n",
    "            \n",
    "            # Define working df\n",
    "            wdf = tables[t]\n",
    "\n",
    "            # Melt data into long format\n",
    "            ldf = pd.melt(wdf, id_vars=[wdf.columns[0]], value_vars=[h],\n",
    "                         var_name='Type', value_name='Value')\n",
    "\n",
    "            # Set first column header to be Category\n",
    "            ldf.columns.values[0] = 'Category'\n",
    "\n",
    "            # Create Table column with value equal to title of table \n",
    "            ldf['Table'] = t\n",
    "\n",
    "            # Create Year column with value from second element of list\n",
    "            ldf['Year'] = l[1]\n",
    "\n",
    "            # Append to list of df\n",
    "            lframes.append(ldf)"
   ]
  },
  {
   "cell_type": "code",
   "execution_count": null,
   "id": "23842583",
   "metadata": {},
   "outputs": [],
   "source": [
    "ldf.head()"
   ]
  },
  {
   "cell_type": "code",
   "execution_count": null,
   "id": "1830c2a1",
   "metadata": {},
   "outputs": [],
   "source": [
    "## Concat all together long format dfs into final df\n",
    "fdf = pd.concat(lframes)"
   ]
  },
  {
   "cell_type": "code",
   "execution_count": null,
   "id": "ab99a92f",
   "metadata": {},
   "outputs": [],
   "source": [
    "## Final Tidy up\n",
    "\n",
    "# Sort bad values\n",
    "fdf['Value'] = fdf['Value'].replace('-', 0)\n",
    "\n",
    "# Remove suffix\n",
    "fdf['Category'] = fdf['Category'].replace('PUPILS FOR WHOM REASON FOR SUPPORT IS REPORTED 1',\n",
    "                                              'PUPILS FOR WHOM REASON FOR SUPPORT IS REPORTED')\n",
    "\n",
    "# Deal with second table for 2022\n",
    "\n",
    "# Function to add 'per 1000' if Table value is TABLE2\n",
    "def fix_category(row):\n",
    "    \n",
    "    if row['Table'] == 'TABLE2':\n",
    "        return row['Type'] + ' per 1000'\n",
    "    else:\n",
    "        return row['Type']\n",
    "        \n",
    "# Apply function above to each row\n",
    "fdf['Type'] = fdf.apply(lambda row: fix_category(row), axis=1)\n",
    "\n",
    "# Drop Table column\n",
    "fdf = fdf.drop('Table', axis=1)"
   ]
  },
  {
   "cell_type": "code",
   "execution_count": null,
   "id": "2c13422c",
   "metadata": {},
   "outputs": [],
   "source": [
    "fdf.head()"
   ]
  },
  {
   "cell_type": "code",
   "execution_count": null,
   "id": "94c61e1d",
   "metadata": {},
   "outputs": [],
   "source": [
    "fdf.to_csv('supplementary.csv')"
   ]
  },
  {
   "cell_type": "code",
   "execution_count": null,
   "id": "0ac3ce38",
   "metadata": {},
   "outputs": [],
   "source": []
  }
 ],
 "metadata": {
  "kernelspec": {
   "display_name": "Python 3 (ipykernel)",
   "language": "python",
   "name": "python3"
  },
  "language_info": {
   "codemirror_mode": {
    "name": "ipython",
    "version": 3
   },
   "file_extension": ".py",
   "mimetype": "text/x-python",
   "name": "python",
   "nbconvert_exporter": "python",
   "pygments_lexer": "ipython3",
   "version": "3.10.12"
  }
 },
 "nbformat": 4,
 "nbformat_minor": 5
}
