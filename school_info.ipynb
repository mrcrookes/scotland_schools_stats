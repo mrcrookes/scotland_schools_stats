{
 "cells": [
  {
   "cell_type": "code",
   "execution_count": 57,
   "id": "49919fb6",
   "metadata": {},
   "outputs": [],
   "source": [
    "import pandas as pd\n",
    "import numpy as np"
   ]
  },
  {
   "cell_type": "code",
   "execution_count": 58,
   "id": "d47d050c",
   "metadata": {},
   "outputs": [],
   "source": [
    "# Function to tidy columns and cells\n",
    "def tidy(df):\n",
    "    \n",
    "    #### Fix usual issues with all strings\n",
    "    \n",
    "    # Capitalise headers\n",
    "    df.columns = df.columns.astype(str).str.upper()\n",
    "    \n",
    "    # Capitalise columns\n",
    "    df = df.map(lambda x: x.upper() if type(x) is str else x)\n",
    "\n",
    "    # Strip whitespace\n",
    "    df = df.map(lambda x: x.strip() if type(x) is str else x)\n",
    "\n",
    "    # Remove parenthesis\n",
    "    df = df.map(lambda x: x.replace('(', '') if type(x) is str else x)\n",
    "    df = df.map(lambda x: x.replace(')', '') if type(x) is str else x)\n",
    "    \n",
    "    # Remove dashes\n",
    "    df = df.map(lambda x: x.replace('-', '') if type(x) is str else x)\n",
    "    \n",
    "    # Remove full stops\n",
    "    df = df.map(lambda x: x.replace('.', '') if type(x) is str else x)\n",
    "    \n",
    "    # Remove commas\n",
    "    df = df.map(lambda x: x.replace(',', '') if type(x) is str else x)\n",
    "    \n",
    "    # Remove linebreaks\n",
    "    df = df.map(lambda x: x.replace('\\n', '') if type(x) is str else x)\n",
    "    \n",
    "    # Remove double spaces\n",
    "    df = df.map(lambda x: x.replace('  ', ' ') if type(x) is str else x)\n",
    "\n",
    "    # Replace annoying substrings\n",
    "    df = df.map(lambda x: x.replace(' AND ', ' & ') if type(x) is str else x)\n",
    "    df = df.map(lambda x: x.replace(' – ', ' - ') if type(x) is str else x)\n",
    "    df = df.map(lambda x: x.replace(' / ', '/') if type(x) is str else x)\n",
    "    df = df.map(lambda x: x.replace('/ ', '/') if type(x) is str else x)\n",
    "    df = df.map(lambda x: x.replace(' /', '/') if type(x) is str else x)\n",
    "    \n",
    "    # Strip whitespace again\n",
    "    df = df.map(lambda x: x.strip() if type(x) is str else x)\n",
    "    \n",
    "    # Drop rows with minimum number of 2 non-null values\n",
    "    df = df.dropna(thresh=2)\n",
    "    \n",
    "    return df"
   ]
  },
  {
   "cell_type": "code",
   "execution_count": 60,
   "id": "277b339b",
   "metadata": {},
   "outputs": [],
   "source": [
    "# Read in data\n",
    "df = pd.read_excel('./data/school+contact+list+31+October+2024.xlsx', sheet_name='Open Schools', skiprows=5)\n",
    "\n",
    "# Tidy data\n",
    "df = tidy(df)\n",
    "\n",
    "# Select secondary schools\n",
    "#df = df.loc[df['SECONDARY DEPARTMENT'] == 'YES']\n",
    "\n",
    "# Sort values and reset index\n",
    "df = df.sort_values(['LA NAME', 'SCHOOL NAME']).reset_index(drop=True)\n",
    "\n",
    "# Select key columns\n",
    "df = df[['SEED CODE', 'LA NAME', 'CENTRE TYPE', 'SCHOOL NAME',\n",
    "         'ADDRESS LINE1', 'ADDRESS LINE2', 'ADDRESS LINE3', 'POST CODE', \n",
    "        'PRE-SCHOOL DEPARTMENT', 'PRIMARY DEPARTMENT',\n",
    "        'SECONDARY DEPARTMENT', 'SPECIAL DEPARTMENT',\n",
    "        'PROVISION FOR GAELIC LEARNERS']]"
   ]
  },
  {
   "cell_type": "code",
   "execution_count": 61,
   "id": "768dd1fe",
   "metadata": {},
   "outputs": [],
   "source": [
    "# Export to .csv\n",
    "df.to_csv('./csvs/school_info.csv', index = False)"
   ]
  },
  {
   "cell_type": "code",
   "execution_count": null,
   "id": "704f5972",
   "metadata": {},
   "outputs": [],
   "source": []
  },
  {
   "cell_type": "code",
   "execution_count": null,
   "id": "c75b0355",
   "metadata": {},
   "outputs": [],
   "source": []
  }
 ],
 "metadata": {
  "kernelspec": {
   "display_name": "Python 3 (ipykernel)",
   "language": "python",
   "name": "python3"
  },
  "language_info": {
   "codemirror_mode": {
    "name": "ipython",
    "version": 3
   },
   "file_extension": ".py",
   "mimetype": "text/x-python",
   "name": "python",
   "nbconvert_exporter": "python",
   "pygments_lexer": "ipython3",
   "version": "3.12.3"
  }
 },
 "nbformat": 4,
 "nbformat_minor": 5
}
