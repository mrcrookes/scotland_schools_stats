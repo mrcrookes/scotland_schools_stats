{
 "cells": [
  {
   "cell_type": "code",
   "execution_count": null,
   "id": "f5bd7151",
   "metadata": {},
   "outputs": [],
   "source": [
    "# Import key librarys\n",
    "import pandas as pd\n",
    "import numpy as np\n",
    "\n",
    "import os\n",
    "import glob"
   ]
  },
  {
   "cell_type": "code",
   "execution_count": null,
   "id": "d00c97c7",
   "metadata": {},
   "outputs": [],
   "source": [
    "# use glob to get all the csv files in the folder\n",
    "path = './highland_school_populations/'\n",
    "csv_files = glob.glob(os.path.join(path, \"*.csv\"))\n",
    "\n",
    "# Create list for all dfs\n",
    "frames = []\n",
    "\n",
    "for f in csv_files:\n",
    "    \n",
    "    wdf = pd.read_csv(f)\n",
    "    \n",
    "    frames.append(wdf)"
   ]
  },
  {
   "cell_type": "code",
   "execution_count": null,
   "id": "b7fc49c5",
   "metadata": {},
   "outputs": [],
   "source": [
    "wdf.head()"
   ]
  },
  {
   "cell_type": "code",
   "execution_count": null,
   "id": "9dd60228",
   "metadata": {},
   "outputs": [],
   "source": [
    "## Concat all together long format dfs into final df\n",
    "ldf = pd.concat(frames)"
   ]
  },
  {
   "cell_type": "code",
   "execution_count": null,
   "id": "0f603124",
   "metadata": {},
   "outputs": [],
   "source": [
    "ldf.to_csv('highland_data.csv')"
   ]
  },
  {
   "cell_type": "code",
   "execution_count": null,
   "id": "c665436c",
   "metadata": {},
   "outputs": [],
   "source": []
  }
 ],
 "metadata": {
  "kernelspec": {
   "display_name": "Python 3 (ipykernel)",
   "language": "python",
   "name": "python3"
  },
  "language_info": {
   "codemirror_mode": {
    "name": "ipython",
    "version": 3
   },
   "file_extension": ".py",
   "mimetype": "text/x-python",
   "name": "python",
   "nbconvert_exporter": "python",
   "pygments_lexer": "ipython3",
   "version": "3.10.12"
  }
 },
 "nbformat": 4,
 "nbformat_minor": 5
}
