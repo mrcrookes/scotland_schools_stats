{
 "cells": [
  {
   "cell_type": "code",
   "execution_count": null,
   "id": "9a237d83",
   "metadata": {},
   "outputs": [],
   "source": [
    "import pandas as pd\n",
    "import numpy as np"
   ]
  },
  {
   "cell_type": "code",
   "execution_count": null,
   "id": "7d5eb040",
   "metadata": {},
   "outputs": [],
   "source": [
    "def readfile(year, ext, sheet, badrows, badfooter):\n",
    "    \n",
    "        df = pd.read_excel('./scotland/' + year + ext, \n",
    "                                sheet_name=sheet,\n",
    "                                    header=None, \n",
    "                                        na_values=['..', '#', ':'],\n",
    "                                            skiprows=badrows, skipfooter=badfooter)\n",
    "        return tidy(df)\n",
    "    \n",
    "def tidy(df):\n",
    "    \n",
    "    # Strip whitespace\n",
    "    df[0] = df[0].str.strip()\n",
    "    \n",
    "    # Create list of suffixes to remove\n",
    "    sls = [\"(1) (2)\", \" (1) (2)\", \" (1)\", \"(1)\", \" (2)\", \"(2)\", \" (3)\", \"(3)\", \" (4)\", \"(4)\",\n",
    "                  \" (5)\", \"(5)\", \" (6)\", \"(6)\"]\n",
    "\n",
    "    # Loop through suffix list\n",
    "    for s in sls:\n",
    "        \n",
    "        # Remove suffix\n",
    "        df = df.applymap(lambda x: x.replace(s, '') if type(x) is str else x)\n",
    "    \n",
    "    # Remove any remaining parenthesis to help with finding exact match and replacing in final tidy\n",
    "    df = df.applymap(lambda x: x.replace('(', '') if type(x) is str else x)\n",
    "    df = df.applymap(lambda x: x.replace(')', '') if type(x) is str else x)\n",
    "    \n",
    "    # Capitalise columns\n",
    "    df[0] = df[0].str.title()\n",
    "    \n",
    "    # Replace dash symbol\n",
    "    df[0] = df[0].str.replace(' – ', ' - ')\n",
    "    \n",
    "    # Replace some categories to common values\n",
    "    df[0] = df[0].str.replace('Elc', 'ELC', case=True)\n",
    "    df[0] = df[0].str.replace('Ptrs', 'PTRs', case=True)\n",
    "    df[0] = df[0].str.replace('Pre-Schools', 'ELC')\n",
    "    df[0] = df[0].str.replace('Pre-School', 'ELC')\n",
    "    df[0] = df[0].str.replace('Pupil Teacher Ratios', 'PTRs')\n",
    "    \n",
    "    # Remove rows with NaN in first column\n",
    "    df = df[df[0].notna()]\n",
    "    \n",
    "    ## Drop dodgy columns\n",
    "    # Find the nones\n",
    "    nones = df.isnull()\n",
    "    # Find the zeroes\n",
    "    zeroes = df == 0\n",
    "    # Find both the nones and the zeroes\n",
    "    nones_zeroes = nones | zeroes\n",
    "    # Find columns with only nones and nones\n",
    "    cols = nones_zeroes.all()[nones_zeroes.all()].index.to_list()\n",
    "    # Drop these columns\n",
    "    df = df.drop(cols, axis=1)\n",
    "        \n",
    "    return df"
   ]
  },
  {
   "cell_type": "code",
   "execution_count": null,
   "id": "693a8c41",
   "metadata": {},
   "outputs": [],
   "source": [
    "# Create frames to sort working df\n",
    "frames = []\n",
    "\n",
    "# Create list of years\n",
    "years = ['2013']\n",
    "\n",
    "# Loop through years\n",
    "for y in years:\n",
    "    \n",
    "    # Read in sheet\n",
    "    wdf = readfile(y, '.xlsx', 'Table 1.1', 2, 5)\n",
    "    \n",
    "    # Append to list of df (with year)\n",
    "    frames.append([wdf, y])\n",
    "    \n",
    "# Create list of years\n",
    "years = ['2020']\n",
    "\n",
    "# Loop through years\n",
    "for y in years:\n",
    "    \n",
    "    # Read in sheet\n",
    "    wdf = readfile(y, '.xlsx', '2.1', 3, 6)\n",
    "    \n",
    "    # Append to list of df (with year)\n",
    "    frames.append([wdf, y])"
   ]
  },
  {
   "cell_type": "code",
   "execution_count": null,
   "id": "f5cbd6b9",
   "metadata": {},
   "outputs": [],
   "source": [
    "#wdf.head()"
   ]
  },
  {
   "cell_type": "code",
   "execution_count": null,
   "id": "0c7517f9",
   "metadata": {},
   "outputs": [],
   "source": [
    "# Create a list for tables\n",
    "tables_ls = []\n",
    "\n",
    "# # Create list of subtables on sheet\n",
    "ls = ['Schools', 'Pupils', 'Teachers', 'PTRs']\n",
    "\n",
    "# Loop through frames\n",
    "for f in frames:\n",
    "    \n",
    "    # Select df which is first element of list entry\n",
    "    df = f[0]\n",
    "\n",
    "    # Not sure what this does (store the recurrence of 'markers')\n",
    "    groups = df[0].isin(ls).cumsum()\n",
    "\n",
    "    # Not sure how this works, creates a dictionary of of dataframes\n",
    "    tables = {'process'+str(k): g.iloc[0:] for k,g in df.groupby(groups)}\n",
    "    \n",
    "    # Append to list of df with year\n",
    "    tables_ls.append([tables, f[1]])"
   ]
  },
  {
   "cell_type": "code",
   "execution_count": null,
   "id": "827d6463",
   "metadata": {},
   "outputs": [],
   "source": [
    "#tables"
   ]
  },
  {
   "cell_type": "code",
   "execution_count": null,
   "id": "8d865c54",
   "metadata": {},
   "outputs": [],
   "source": [
    "# Loop though list of tables\n",
    "for l in tables_ls:\n",
    "    \n",
    "    # Select df which is first element of list entry\n",
    "    tables = l[0]\n",
    "    \n",
    "    # Loop through tables dictionary\n",
    "    for t in tables:\n",
    "        \n",
    "        if l[1] == '2013':\n",
    "        \n",
    "            # Manually ename columns from key at the top of sheet\n",
    "            tables[t].columns = [np.nan, '2005', '2006', '2007', '2008', '2009', '2010', '2011', '2012', '2013']\n",
    "        \n",
    "        if l[1] == '2020':\n",
    "        \n",
    "            # Manually ename columns from key at the top of sheet\n",
    "            tables[t].columns = [np.nan, '2013', '2014', '2015', '2016', '2017', '2018', '2019', '2020']\n",
    "\n",
    "        # Concat 1st entry of 1st row with 2+ entries of 2nd row \n",
    "        tables[t].columns = np.concatenate([tables[t].iloc[0, :1], tables[t].columns[1:]])\n",
    "        # Drop 1st row\n",
    "        tables[t] = tables[t].iloc[1:].reset_index(drop=True)"
   ]
  },
  {
   "cell_type": "code",
   "execution_count": null,
   "id": "d9ab6e8b",
   "metadata": {},
   "outputs": [],
   "source": [
    "#tables[t]"
   ]
  },
  {
   "cell_type": "code",
   "execution_count": null,
   "id": "ac69a1d4",
   "metadata": {},
   "outputs": [],
   "source": [
    "## Convert tables from before 2022 into long format \n",
    "\n",
    "# Create frames to sort working df\n",
    "frames = []\n",
    "\n",
    "# Loop though list of list of dfs\n",
    "for l in tables_ls:\n",
    "    \n",
    "    # Select list of dfs which is first element\n",
    "    tables = l[0]\n",
    "\n",
    "    # Loop through dfs in list of dfs\n",
    "    for t in tables:\n",
    "\n",
    "        # Loop through columns df\n",
    "        for h in tables[t].columns[1:]:\n",
    "\n",
    "            # Melt data into long format\n",
    "            wdf = pd.melt(tables[t], id_vars=[tables[t].columns[0]], value_vars=[h],\n",
    "                         var_name='Type', value_name='Value')\n",
    "\n",
    "            # Set first column header to be Category\n",
    "            wdf.columns.values[0] = 'Category'\n",
    "\n",
    "            # Create df column with value equal to title of table \n",
    "            wdf['Table'] = tables[t].columns[0]\n",
    "\n",
    "            # Create Year column with value from second element of list of list of dfs\n",
    "            wdf['Year'] = l[1]\n",
    "\n",
    "            # Append to list of df that are now in long format\n",
    "            frames.append(wdf)"
   ]
  },
  {
   "cell_type": "code",
   "execution_count": null,
   "id": "0f270da6",
   "metadata": {},
   "outputs": [],
   "source": [
    "#wdf"
   ]
  },
  {
   "cell_type": "code",
   "execution_count": null,
   "id": "d5208b14",
   "metadata": {},
   "outputs": [],
   "source": [
    "# Concat together dfs list list\n",
    "ldf = pd.concat(frames)\n",
    "\n",
    "# Reorder columns\n",
    "ldf = ldf[['Table', 'Category', 'Type', 'Value', 'Year']]\n",
    "\n",
    "# ## Tidy up\n",
    "\n",
    "# Create dictionary of categories to rename\n",
    "ids = {'Total Excludes ELC': 'Total Excluding ELC',\n",
    "       'Total School Excluding ELC': 'Total Excluding ELC',\n",
    "        'Centrally Employed School': 'Centrally Employed',\n",
    "        'Total Based In Schools': 'School Based',\n",
    "        'Publicly Funded Schools': 'Total Excluding ELC',\n",
    "        'Total Schools': 'Total Excluding ELC'\n",
    "        }\n",
    "\n",
    "# Add regex tags to strings to allow for finding exact match\n",
    "replacement = {rf'\\b{k}\\b': v for k, v in ids.items()}\n",
    "\n",
    "# Rename categories using dictionary above\n",
    "ldf['Category'] = ldf['Category'].replace(replacement, regex=True)\n",
    "\n",
    "# Drop duplicates\n",
    "ldf = ldf.drop_duplicates()\n",
    "\n",
    "# Reset index\n",
    "ldf = ldf.reset_index(drop=True)"
   ]
  },
  {
   "cell_type": "code",
   "execution_count": null,
   "id": "70c34736",
   "metadata": {},
   "outputs": [],
   "source": [
    "#ldf"
   ]
  },
  {
   "cell_type": "code",
   "execution_count": null,
   "id": "51d81188",
   "metadata": {},
   "outputs": [],
   "source": [
    "ldf.to_csv('numbers.csv')"
   ]
  },
  {
   "cell_type": "code",
   "execution_count": null,
   "id": "4fca62a0",
   "metadata": {},
   "outputs": [],
   "source": [
    "#ldf.loc[ldf['Table'] == 'Employment type']['Category'].unique().tolist()\n",
    "ldf['Category'].unique().tolist()"
   ]
  },
  {
   "cell_type": "code",
   "execution_count": null,
   "id": "b01d37da",
   "metadata": {},
   "outputs": [],
   "source": [
    "ldf.info()"
   ]
  },
  {
   "cell_type": "code",
   "execution_count": null,
   "id": "eacdab11",
   "metadata": {},
   "outputs": [],
   "source": []
  }
 ],
 "metadata": {
  "kernelspec": {
   "display_name": "Python 3 (ipykernel)",
   "language": "python",
   "name": "python3"
  },
  "language_info": {
   "codemirror_mode": {
    "name": "ipython",
    "version": 3
   },
   "file_extension": ".py",
   "mimetype": "text/x-python",
   "name": "python",
   "nbconvert_exporter": "python",
   "pygments_lexer": "ipython3",
   "version": "3.10.12"
  }
 },
 "nbformat": 4,
 "nbformat_minor": 5
}
